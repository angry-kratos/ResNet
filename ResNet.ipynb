{
 "cells": [
  {
   "attachments": {},
   "cell_type": "markdown",
   "metadata": {},
   "source": [
    "# ResNet: Deep Residual Learning for Image Recognition\n",
    "By Kaiming He, Xiangyu Zhang, Shaoqing  Ren, Jian Sun\n",
    "\n",
    "\n",
    "#### The Degradation Problem: \n",
    "As we increase the network depth of a deep neural network, accuracy gets saturated. But as we keep increasing the no. of layers, the accuracy starts to decrease, and it is not due to the overfittng.\n",
    "\n",
    "##### this is the problem ResNet or Residual Network aims to solve"
   ]
  },
  {
   "attachments": {},
   "cell_type": "markdown",
   "metadata": {},
   "source": [
    "### Residual Block"
   ]
  },
  {
   "attachments": {
    "image.png": {
     "image/png": "[encoded data removed]"
    }
   },
   "cell_type": "markdown",
   "metadata": {},
   "source": [
    "![image.png](attachment:image.png)"
   ]
  },
  {
   "cell_type": "code",
   "execution_count": 1,
   "metadata": {},
   "outputs": [],
   "source": [
    "from typing import List, Optional\n",
    "\n",
    "import torch\n",
    "from torch import nn \n",
    "from labml_helpers.module import Module "
   ]
  },
  {
   "cell_type": "code",
   "execution_count": 2,
   "metadata": {},
   "outputs": [],
   "source": [
    "class ShortcutProjection(Module):\n",
    "    def __init__(self, in_channels: int, out_channels: int, stride: int):\n",
    "        super().__init__()\n",
    "        #now we can create a 2d convolutional neural network\n",
    "        self.conv_network = nn.Conv2d(in_channels, out_channels, kernel_size=1, stride = stride)\n",
    "        \n",
    "        self.batch_norm= nn.BatchNorm2d(out_channels)#suggested in the paper\n",
    "        #batch normalisation makes the model less delicate to hyperparameter tuning\n",
    "         \n",
    "\n",
    "    def forward(self, x: torch.Tensor):\n",
    "        return self.batch_norm(self.conv_network(x))\n",
    "        \n",
    "\n"
   ]
  },
  {
   "cell_type": "code",
   "execution_count": 3,
   "metadata": {},
   "outputs": [],
   "source": [
    "class ResidualBlock(Module):\n",
    "    def __init__(self, in_channel: int, out_channel: int, stride: int):\n",
    "        super().__init__()\n",
    "\n",
    "        self.conv_net_1= nn.Conv2d(in_channel,out_channel, kernel_size=3, stride = stride, padding = 1)\n",
    "        self.bn1 = nn.BatchNorm2d(out_channel)\n",
    "        self.act1 = nn.ReLU()\n",
    "\n",
    "        self.conv_net_2 = nn.Conv2d(out_channel, out_channel, kernel_size=3, stride = 1, padding =1)\n",
    "        self.bn2 = nn.BatchNorm2d(out_channel)\n",
    "\n",
    "        if stride != 1 or in_channel != out_channel:\n",
    "            self.shortcut = ShortcutProjection(in_channel, out_channel, stride)\n",
    "        else:\n",
    "            self.shortcut = nn.Identity()\n",
    "            \n",
    "        self.act2 = nn.ReLu()\n",
    "    def forward(self, x: torch.Tensor):\n",
    "        shortcut = self.shortcut(x)\n",
    "        x = self.act1(self.bn1(self.conv1(x)))\n",
    "        x = self.bn2(self.conv2(x))\n",
    "\n",
    "        return self.act2(x + shortcut)\n",
    "        \n"
   ]
  },
  {
   "attachments": {},
   "cell_type": "markdown",
   "metadata": {},
   "source": [
    "### Bottleneck Residual Block"
   ]
  },
  {
   "attachments": {
    "image.png": {
     "image/png": "[encoded data removed]"
    }
   },
   "cell_type": "markdown",
   "metadata": {},
   "source": [
    "![image.png](attachment:image.png)"
   ]
  },
  {
   "cell_type": "code",
   "execution_count": 4,
   "metadata": {},
   "outputs": [],
   "source": [
    "class BottleneckResidualBlock(Module):\n",
    "    def __init__(self, in_channels: int, bottleneck_channels: int, out_channels: int, stride: int):\n",
    "        super().__init__()\n",
    "        self.conv1 = nn.Conv2d(in_channels, bottleneck_channels, kernel_size=1, stride = 1)\n",
    "        self.bn1 = nn.BatchNorm2d(bottleneck_channels)\n",
    "        self.act1 = nn.ReLU()\n",
    "        self.conv2 = nn.Conv2d(bottleneck_channels, bottleneck_channels, kernel_size=3, stride=stride, padding=1)\n",
    "        self.bn2 = nn.BatchNorm2d(bottleneck_channels)\n",
    "        self.act2 = nn.ReLU()\n",
    "        self.conv3 = nn.Conv2d(in_channels, bottleneck_channels, kernel_size=1, stride = 1)\n",
    "        self.bn3 = nn.BatchNorm2d(bottleneck_channels)\n",
    "        \n",
    "\n",
    "        if stride != 1 or in_channels != out_channels:\n",
    "            self.shortcut = ShortcutProjection(in_channels, out_channels, stride)\n",
    "        else:\n",
    "            self.shortcut = nn.Identity()\n",
    "        self.act3 = nn.ReLU()\n",
    "\n",
    "    def forward(self, x: torch.Tensor):\n",
    "        shortcut = self.shortcut(x)\n",
    "        x = self.act1(self.bn1(self.conv1(x)))\n",
    "        x = self.act2(self.bn2(self.conv2(x)))\n",
    "        x = self.bn3(self.conv3(x))\n",
    "\n",
    "        return self.act3(x + shortcut)\n",
    "\n",
    "        \n",
    "\n",
    "\n",
    "\n",
    "\n"
   ]
  },
  {
   "attachments": {},
   "cell_type": "markdown",
   "metadata": {},
   "source": [
    "### ResNet Model\n",
    "\n",
    "The resnet is made of stacked Residual Blocks and Bottleneck Residual Blocks"
   ]
  },
  {
   "cell_type": "code",
   "execution_count": 13,
   "metadata": {},
   "outputs": [],
   "source": [
    "class ResNetBase(Module):\n",
    "    def __init__(self, n_blocks: List[int], n_channels: List[int],\n",
    "                bottleneck: Optional[list[int]]= None,\n",
    "                img_channels: int =3, first_kernel_size:int= 7):\n",
    "\n",
    "                \n",
    "\n",
    "        super().__init__()\n",
    "\n",
    "        assert len(n_blocks)== len(n_channels)\n",
    "        assert bottleneck is None or len(bottleneck)==len(n_channels)\n",
    "\n",
    "\n",
    "        self.conv = nn.Conv2d(img_channels, n_channels[0],kernel_size=first_kernel_size, stride=2, padding=first_kernel_size // 2)\n",
    "        self.bn = nn.BatchNorm2d(n_channels[0])\n",
    "\n",
    "        blocks = []\n",
    "        prev_channels = n_channels[0]\n",
    "\n",
    "        for i, channels in enumerate(n_channels):\n",
    "\n",
    "            stride = 2 if len(blocks) == 0 else 1\n",
    "\n",
    "            if bottleneck in None:\n",
    "                blocks.append(ResidualBlock(prev_channels, channels, stride =stride))\n",
    "            else:\n",
    "                blocks.append(BottleneckResidualBlock(channels, bottleneck[i], channels, stride = 1))\n",
    "\n",
    "        self.blocks = nn.Sequential(*blocks)\n",
    "    \n",
    "    def forward(self, x: torch.Tensor):\n",
    "        x = self.bn(self.conv(x))\n",
    "        x = self.blocks(x)\n",
    "\n",
    "        x = x.view(x.shape[0], x.shape[1], -1)\n",
    "\n",
    "        return x.mean(dim=-1)\n",
    "\n",
    "    \n"
   ]
  },
  {
   "cell_type": "code",
   "execution_count": null,
   "metadata": {},
   "outputs": [],
   "source": []
  }
 ],
 "metadata": {
  "kernelspec": {
   "display_name": "Python 3",
   "language": "python",
   "name": "python3"
  },
  "language_info": {
   "codemirror_mode": {
    "name": "ipython",
    "version": 3
   },
   "file_extension": ".py",
   "mimetype": "text/x-python",
   "name": "python",
   "nbconvert_exporter": "python",
   "pygments_lexer": "ipython3",
   "version": "3.10.0"
  },
  "orig_nbformat": 4,
  "vscode": {
   "interpreter": {
    "hash": "20a5b57e39713a7ab387232c89d31b16410c32de90dea470b11af2fe324fc5cd"
   }
  }
 },
 "nbformat": 4,
 "nbformat_minor": 2
}
